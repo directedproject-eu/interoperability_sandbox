{
 "cells": [
  {
   "cell_type": "markdown",
   "id": "3c0ed1f5-5fd3-40fc-873f-1e8c12bf9479",
   "metadata": {},
   "source": [
    "# CLIMADA - PIK data flow: EXAMPLE 1"
   ]
  },
  {
   "cell_type": "markdown",
   "id": "e3858a83-d4e5-4ff9-be96-bfddf4341d10",
   "metadata": {},
   "source": [
    "In this notebook we show one simple impact calculations with CLIMADA using a datafile for floods from the PIK model."
   ]
  },
  {
   "cell_type": "code",
   "execution_count": 1,
   "id": "463b6f80-332e-495e-8bb3-cf0996265736",
   "metadata": {
    "execution": {
     "iopub.execute_input": "2024-08-05T12:39:30.904538Z",
     "iopub.status.busy": "2024-08-05T12:39:30.903401Z",
     "iopub.status.idle": "2024-08-05T12:39:30.916040Z",
     "shell.execute_reply": "2024-08-05T12:39:30.913994Z",
     "shell.execute_reply.started": "2024-08-05T12:39:30.904498Z"
    }
   },
   "outputs": [],
   "source": [
    "from pathlib import Path"
   ]
  },
  {
   "cell_type": "markdown",
   "id": "17bacd43",
   "metadata": {},
   "source": [
    "**Define the path to DATA folder. The DATA can be downloaded from NEXTCLOUD [https://cloud.tu-braunschweig.de/f/569399210](https://cloud.tu-braunschweig.de/f/569399210)**   "
   ]
  },
  {
   "cell_type": "code",
   "execution_count": 2,
   "id": "d1d34db0",
   "metadata": {},
   "outputs": [],
   "source": [
    "data_path = Path('/Users/vwattin/Documents/Programming/Climate/DIRECTED/Coupling/DATA')\n",
    "\n",
    "# Define the output folder path (used later in the script)\n",
    "output_path = Path('Results')\n",
    "\n",
    "# Create the output folder if it doesn't exist\n",
    "output_path.mkdir(parents=True, exist_ok=True)"
   ]
  },
  {
   "cell_type": "markdown",
   "id": "159079bc-ca7a-42ea-b8bc-f51b2b580836",
   "metadata": {},
   "source": [
    "First, we load the hazard dataset (which contains flood depths for each day between 1971 and 2023 for a total of 19358 events) from the PIK."
   ]
  },
  {
   "cell_type": "code",
   "execution_count": 3,
   "id": "08bf5c1d-da46-4a18-8210-59e60ba2a127",
   "metadata": {
    "execution": {
     "iopub.execute_input": "2024-08-05T12:39:30.918954Z",
     "iopub.status.busy": "2024-08-05T12:39:30.918622Z",
     "iopub.status.idle": "2024-08-05T12:39:46.340932Z",
     "shell.execute_reply": "2024-08-05T12:39:46.340336Z",
     "shell.execute_reply.started": "2024-08-05T12:39:30.918928Z"
    }
   },
   "outputs": [],
   "source": [
    "haz_folder = 'PIK_Model'\n",
    "haz_path = data_path / haz_folder\n",
    "haz_file = 'flddph_7123.nc4'\n",
    "hazard_type = 'RF' # Type of the hazard, ideally a two-letter identifier. Is needed to match with the exposures and impact functions.\n",
    "intensity_unit = 'm' # Just for plots\n",
    "intensity='water_depth' # Which variable in the dataset is to be considered the intensity? \n",
    "coordinate_vars = {'longitude': 'lon', 'latitude': 'lat'} # CLIMADA uses latitude and longitude as default x/y coordinate names. This file contains lat/lon. \n",
    "crs = 'EPSG:4326' # Assumed, however it is unclear from the dataset whether this is correct. That would need to be included in the netcdf file.\n",
    "\n",
    "# Read the hazard data\n",
    "from climada.hazard import Hazard\n",
    "haz = Hazard.from_xarray_raster_file(\n",
    "    filepath=haz_path/haz_file,\n",
    "    hazard_type=hazard_type,\n",
    "    intensity_unit=intensity_unit,\n",
    "    intensity=intensity,\n",
    "    coordinate_vars=coordinate_vars,\n",
    "    crs=crs\n",
    ")"
   ]
  },
  {
   "cell_type": "markdown",
   "id": "44972ac5-940b-4004-82cb-fb2960f4ae98",
   "metadata": {},
   "source": [
    "NOTE: Some processing might be needed to transform the ouput from the PIK model into a directly usable input for CLIMADA. Here we use the data directly, which works technically, but does not necessarilly produce scientifically sound outputs."
   ]
  },
  {
   "cell_type": "code",
   "execution_count": 4,
   "id": "6bf1874c-216e-4803-a2a4-3440f27c7087",
   "metadata": {
    "execution": {
     "iopub.execute_input": "2024-08-05T12:39:46.341584Z",
     "iopub.status.busy": "2024-08-05T12:39:46.341473Z",
     "iopub.status.idle": "2024-08-05T12:39:46.344243Z",
     "shell.execute_reply": "2024-08-05T12:39:46.343892Z",
     "shell.execute_reply.started": "2024-08-05T12:39:46.341573Z"
    }
   },
   "outputs": [],
   "source": [
    "# The frequency of all events must adjusted to the value of interest. Typically, one is interested in annual probabilities. Ideally, this would be included in the netcdf file.\n",
    "import datetime\n",
    "import numpy as np\n",
    "first_year = datetime.datetime.fromordinal(np.min(haz.date)).year\n",
    "last_year = datetime.datetime.fromordinal(np.max(haz.date)).year\n",
    "haz.frequency = np.repeat(1/(last_year - first_year), haz.size)"
   ]
  },
  {
   "cell_type": "markdown",
   "id": "3dc14b9c-2ac3-4f3e-90e9-a214abc17596",
   "metadata": {},
   "source": [
    "Second, we load an exposure file from the CLIMADA API."
   ]
  },
  {
   "cell_type": "code",
   "execution_count": 5,
   "id": "527866bf-f49e-4610-960e-32a8449e1a50",
   "metadata": {
    "execution": {
     "iopub.execute_input": "2024-08-05T12:39:46.344922Z",
     "iopub.status.busy": "2024-08-05T12:39:46.344818Z",
     "iopub.status.idle": "2024-08-05T12:39:47.563939Z",
     "shell.execute_reply": "2024-08-05T12:39:47.563597Z",
     "shell.execute_reply.started": "2024-08-05T12:39:46.344912Z"
    }
   },
   "outputs": [],
   "source": [
    "# Add to each location of the hazard the country iso code. This can then be used to get the correct exposure file. \n",
    "haz.centroids.set_region_id()"
   ]
  },
  {
   "cell_type": "code",
   "execution_count": 6,
   "id": "1aae7599-1bbd-4183-a076-a066d12715fa",
   "metadata": {
    "execution": {
     "iopub.execute_input": "2024-08-05T12:39:47.564643Z",
     "iopub.status.busy": "2024-08-05T12:39:47.564525Z",
     "iopub.status.idle": "2024-08-05T12:39:47.567188Z",
     "shell.execute_reply": "2024-08-05T12:39:47.566917Z",
     "shell.execute_reply.started": "2024-08-05T12:39:47.564631Z"
    }
   },
   "outputs": [],
   "source": [
    "regions = np.unique(haz.centroids.region_id)\n",
    "regions = regions[regions>0] # 0 is the id for points on the ocean (so do not belong to a land-mass of a country) and should be removed from the list of countries to retrieve"
   ]
  },
  {
   "cell_type": "code",
   "execution_count": 7,
   "id": "552666b4-3a61-4866-8c5a-8b5b1728bc4c",
   "metadata": {
    "execution": {
     "iopub.execute_input": "2024-08-05T12:39:47.567976Z",
     "iopub.status.busy": "2024-08-05T12:39:47.567802Z",
     "iopub.status.idle": "2024-08-05T12:40:21.003600Z",
     "shell.execute_reply": "2024-08-05T12:40:21.003225Z",
     "shell.execute_reply.started": "2024-08-05T12:39:47.567961Z"
    }
   },
   "outputs": [
    {
     "name": "stdout",
     "output_type": "stream",
     "text": [
      "Country XKO not found\n"
     ]
    }
   ],
   "source": [
    "# Get the assset exposures of the LitPop model from the CLIMADA data API\n",
    "from climada.util.api_client import Client\n",
    "import climada.util.coordinates as u_coord\n",
    "client = Client()\n",
    "all_regions_exposures =  []\n",
    "for reg in u_coord.country_to_iso(countries=regions, representation='alpha3'): # the method requires iso3alpha codes\n",
    "    try:\n",
    "        all_regions_exposures.append(client.get_litpop(reg))\n",
    "    except LookupError:\n",
    "        print(f\"Country {reg} not found\")"
   ]
  },
  {
   "cell_type": "code",
   "execution_count": 8,
   "id": "b43f8e71-6003-4411-a5bb-6f6208d68285",
   "metadata": {
    "execution": {
     "iopub.execute_input": "2024-08-05T12:40:21.005898Z",
     "iopub.status.busy": "2024-08-05T12:40:21.005744Z",
     "iopub.status.idle": "2024-08-05T12:40:21.024963Z",
     "shell.execute_reply": "2024-08-05T12:40:21.024544Z",
     "shell.execute_reply.started": "2024-08-05T12:40:21.005884Z"
    }
   },
   "outputs": [],
   "source": [
    "from climada.entity import Exposures\n",
    "exp = Exposures.concat(all_regions_exposures) # Make one single exposure file for compute the values for all countries at once."
   ]
  },
  {
   "cell_type": "markdown",
   "id": "905c92b5-d014-462d-bae8-7b4ecdcb677e",
   "metadata": {},
   "source": [
    "Third, we define an impact function. This is tricky, as this typically depends strongly on the datasets, and the user should define them carefully. Here we simply assume a 1m threshold for certain countries, and 2m for others (just for demonstration)"
   ]
  },
  {
   "cell_type": "code",
   "execution_count": 9,
   "id": "ef89d8f2-6154-4cf5-965f-df33700f7abe",
   "metadata": {
    "execution": {
     "iopub.execute_input": "2024-08-05T12:40:21.025804Z",
     "iopub.status.busy": "2024-08-05T12:40:21.025654Z",
     "iopub.status.idle": "2024-08-05T12:40:21.028831Z",
     "shell.execute_reply": "2024-08-05T12:40:21.028425Z",
     "shell.execute_reply.started": "2024-08-05T12:40:21.025791Z"
    }
   },
   "outputs": [],
   "source": [
    "from climada.entity import ImpactFunc, ImpactFuncSet\n",
    "min_depth = 0\n",
    "max_depth = 1000\n",
    "\n",
    "threshold1 = 1\n",
    "impf_id1 = 1\n",
    "impf1 = ImpactFunc.from_step_impf(\n",
    "    intensity=(min_depth, threshold1, max_depth),\n",
    "    haz_type=hazard_type,\n",
    "    impf_id=impf_id1\n",
    ")\n",
    "\n",
    "threshold2 = 2\n",
    "impf_id2 = 2\n",
    "impf2 = ImpactFunc.from_step_impf(\n",
    "    intensity=(min_depth, threshold2, max_depth),\n",
    "    haz_type=hazard_type,\n",
    "    impf_id=impf_id2\n",
    ")\n",
    "\n",
    "impfset = ImpactFuncSet([impf1, impf2])"
   ]
  },
  {
   "cell_type": "markdown",
   "id": "3df7f703-f091-4ac4-ad92-012ab99e990d",
   "metadata": {},
   "source": [
    "Fourth, we need to assign the impact functions to the exposure points. Here we choose certain countries at random to have 1m, others 2m."
   ]
  },
  {
   "cell_type": "code",
   "execution_count": 10,
   "id": "a664086d-374f-4af0-855f-54e6bb868af8",
   "metadata": {
    "execution": {
     "iopub.execute_input": "2024-08-05T12:40:21.029619Z",
     "iopub.status.busy": "2024-08-05T12:40:21.029497Z",
     "iopub.status.idle": "2024-08-05T12:40:21.047487Z",
     "shell.execute_reply": "2024-08-05T12:40:21.047067Z",
     "shell.execute_reply.started": "2024-08-05T12:40:21.029606Z"
    }
   },
   "outputs": [],
   "source": [
    "exp.gdf[f'impf_{hazard_type}'] = impf_id1\n",
    "exp.gdf[exp.gdf['region_id'] > 150 ][f'impf_{hazard_type}'] = impf_id2"
   ]
  },
  {
   "cell_type": "code",
   "execution_count": 11,
   "id": "cd0bc75a-00d5-4dd5-b465-4ccdbb4ba7ed",
   "metadata": {
    "execution": {
     "iopub.execute_input": "2024-08-05T12:40:21.048182Z",
     "iopub.status.busy": "2024-08-05T12:40:21.048061Z",
     "iopub.status.idle": "2024-08-05T12:40:21.378890Z",
     "shell.execute_reply": "2024-08-05T12:40:21.378492Z",
     "shell.execute_reply.started": "2024-08-05T12:40:21.048170Z"
    }
   },
   "outputs": [
    {
     "name": "stdout",
     "output_type": "stream",
     "text": [
      "2024-08-28 15:24:27,760 - climada.util.coordinates - WARNING - Distance to closest centroid is greater than 10km for 171360 coordinates.\n"
     ]
    }
   ],
   "source": [
    "# We can assign centroids of the hazard the exposure points manually. This is useful when doing repeated impact calculations\n",
    "exp.assign_centroids(haz, threshold=10) #threshold for nearest neighbour assignement is chosen to 10km (arbitrary choice, default would be 100)"
   ]
  },
  {
   "cell_type": "markdown",
   "id": "e2b1cb73-e544-4ef6-a934-bcca00f23876",
   "metadata": {},
   "source": [
    "Fith, we compute the impacts"
   ]
  },
  {
   "cell_type": "code",
   "execution_count": 12,
   "id": "176cd7eb-e8b2-4bce-ab07-bda6369920e2",
   "metadata": {
    "execution": {
     "iopub.execute_input": "2024-08-05T12:40:21.379564Z",
     "iopub.status.busy": "2024-08-05T12:40:21.379453Z",
     "iopub.status.idle": "2024-08-05T12:40:21.597983Z",
     "shell.execute_reply": "2024-08-05T12:40:21.597513Z",
     "shell.execute_reply.started": "2024-08-05T12:40:21.379553Z"
    }
   },
   "outputs": [],
   "source": [
    "from climada.engine import ImpactCalc\n",
    "impcalc = ImpactCalc(exposures=exp, impfset=impfset, hazard=haz)"
   ]
  },
  {
   "cell_type": "code",
   "execution_count": 13,
   "id": "4f3f5527-722e-48de-83f5-0cff8b5a479d",
   "metadata": {
    "execution": {
     "iopub.execute_input": "2024-08-05T12:40:21.598826Z",
     "iopub.status.busy": "2024-08-05T12:40:21.598684Z",
     "iopub.status.idle": "2024-08-05T12:40:32.382744Z",
     "shell.execute_reply": "2024-08-05T12:40:32.382257Z",
     "shell.execute_reply.started": "2024-08-05T12:40:21.598813Z"
    }
   },
   "outputs": [],
   "source": [
    "impact = impcalc.impact(assign_centroids=False)"
   ]
  },
  {
   "cell_type": "markdown",
   "id": "655bfdfc-87b4-49dd-80e8-cf8a618c0034",
   "metadata": {},
   "source": [
    "Sixth, we can extract diverse risk and impact metrics. One can also save them to file."
   ]
  },
  {
   "cell_type": "code",
   "execution_count": 14,
   "id": "ae03103f-16d9-4ea1-be6d-adf85cc69e20",
   "metadata": {
    "execution": {
     "iopub.execute_input": "2024-08-05T12:40:32.383590Z",
     "iopub.status.busy": "2024-08-05T12:40:32.383467Z",
     "iopub.status.idle": "2024-08-05T12:40:32.387898Z",
     "shell.execute_reply": "2024-08-05T12:40:32.387514Z",
     "shell.execute_reply.started": "2024-08-05T12:40:32.383580Z"
    }
   },
   "outputs": [
    {
     "data": {
      "text/plain": [
       "270380992296766.94"
      ]
     },
     "execution_count": 14,
     "metadata": {},
     "output_type": "execute_result"
    }
   ],
   "source": [
    "# Average annual impact over the whole region\n",
    "impact.aai_agg"
   ]
  },
  {
   "cell_type": "code",
   "execution_count": 15,
   "id": "094bdb7f-aa52-4b0e-83c3-7129882e1137",
   "metadata": {
    "execution": {
     "iopub.execute_input": "2024-08-05T12:40:32.388471Z",
     "iopub.status.busy": "2024-08-05T12:40:32.388367Z",
     "iopub.status.idle": "2024-08-05T12:40:32.390941Z",
     "shell.execute_reply": "2024-08-05T12:40:32.390699Z",
     "shell.execute_reply.started": "2024-08-05T12:40:32.388461Z"
    }
   },
   "outputs": [
    {
     "data": {
      "text/plain": [
       "array([0., 0., 0., ..., 0., 0., 0.])"
      ]
     },
     "execution_count": 15,
     "metadata": {},
     "output_type": "execute_result"
    }
   ],
   "source": [
    "# Average annual impact per exposure point\n",
    "impact.eai_exp"
   ]
  },
  {
   "cell_type": "code",
   "execution_count": 1,
   "id": "7406d11a-8205-4483-bcfd-1985b208c110",
   "metadata": {
    "execution": {
     "iopub.execute_input": "2024-08-05T12:40:32.391562Z",
     "iopub.status.busy": "2024-08-05T12:40:32.391438Z",
     "iopub.status.idle": "2024-08-05T12:40:32.393886Z",
     "shell.execute_reply": "2024-08-05T12:40:32.393557Z",
     "shell.execute_reply.started": "2024-08-05T12:40:32.391551Z"
    }
   },
   "outputs": [
    {
     "ename": "NameError",
     "evalue": "name 'impact' is not defined",
     "output_type": "error",
     "traceback": [
      "\u001b[0;31m---------------------------------------------------------------------------\u001b[0m",
      "\u001b[0;31mNameError\u001b[0m                                 Traceback (most recent call last)",
      "Cell \u001b[0;32mIn[1], line 2\u001b[0m\n\u001b[1;32m      1\u001b[0m \u001b[38;5;66;03m# Total impact per event\u001b[39;00m\n\u001b[0;32m----> 2\u001b[0m \u001b[43mimpact\u001b[49m\u001b[38;5;241m.\u001b[39mat_event\n",
      "\u001b[0;31mNameError\u001b[0m: name 'impact' is not defined"
     ]
    }
   ],
   "source": [
    "# Total impact per event\n",
    "impact.at_event"
   ]
  },
  {
   "cell_type": "code",
   "execution_count": 17,
   "id": "c2c9fd9c-b013-48cf-9b3a-d5bd6fe79149",
   "metadata": {
    "execution": {
     "iopub.execute_input": "2024-08-05T12:40:32.394574Z",
     "iopub.status.busy": "2024-08-05T12:40:32.394462Z",
     "iopub.status.idle": "2024-08-05T12:40:32.398292Z",
     "shell.execute_reply": "2024-08-05T12:40:32.397957Z",
     "shell.execute_reply.started": "2024-08-05T12:40:32.394562Z"
    }
   },
   "outputs": [
    {
     "data": {
      "text/plain": [
       "ImpactFreqCurve(return_per=[1, 2, 5, 10, 20], impact=array([1.56725719e+12, 1.68103937e+12, 1.79433346e+12, 1.96842222e+12,\n",
       "       2.02652445e+12]), unit='USD', frequency_unit='1/year', label='Exceedance frequency curve')"
      ]
     },
     "execution_count": 17,
     "metadata": {},
     "output_type": "execute_result"
    }
   ],
   "source": [
    "# Impact at given return periods\n",
    "impact.calc_freq_curve(return_per=[1,2,5,10,20])"
   ]
  },
  {
   "cell_type": "code",
   "execution_count": 18,
   "id": "9394824e-0e80-4f96-818a-27caf6b56b57",
   "metadata": {
    "execution": {
     "iopub.execute_input": "2024-08-05T12:40:32.399061Z",
     "iopub.status.busy": "2024-08-05T12:40:32.398919Z",
     "iopub.status.idle": "2024-08-05T12:40:32.766202Z",
     "shell.execute_reply": "2024-08-05T12:40:32.765676Z",
     "shell.execute_reply.started": "2024-08-05T12:40:32.399049Z"
    }
   },
   "outputs": [],
   "source": [
    "# Save to csv (netcdf will be implemented soon)\n",
    "impact.write_csv(output_path / 'impact_pik_example1.csv')"
   ]
  },
  {
   "cell_type": "code",
   "execution_count": 19,
   "id": "2a995f3b-7023-45da-87cb-e6d30cfd8748",
   "metadata": {
    "execution": {
     "iopub.execute_input": "2024-08-05T12:40:32.766933Z",
     "iopub.status.busy": "2024-08-05T12:40:32.766812Z",
     "iopub.status.idle": "2024-08-05T12:40:32.769641Z",
     "shell.execute_reply": "2024-08-05T12:40:32.769328Z",
     "shell.execute_reply.started": "2024-08-05T12:40:32.766921Z"
    }
   },
   "outputs": [
    {
     "data": {
      "text/plain": [
       "<19358x264734 sparse matrix of type '<class 'numpy.float64'>'\n",
       "\twith 95950630 stored elements in Compressed Sparse Row format>"
      ]
     },
     "execution_count": 19,
     "metadata": {},
     "output_type": "execute_result"
    }
   ],
   "source": [
    "# The full event/point impact matrix\n",
    "impact.imp_mat"
   ]
  },
  {
   "cell_type": "code",
   "execution_count": 20,
   "id": "b86e00e6-48ce-40db-87e5-28a06eb72937",
   "metadata": {
    "execution": {
     "iopub.execute_input": "2024-08-05T12:40:32.770205Z",
     "iopub.status.busy": "2024-08-05T12:40:32.770096Z",
     "iopub.status.idle": "2024-08-05T12:40:33.293847Z",
     "shell.execute_reply": "2024-08-05T12:40:33.293431Z",
     "shell.execute_reply.started": "2024-08-05T12:40:32.770195Z"
    }
   },
   "outputs": [],
   "source": [
    "# Save the full event/point impact matrix in sparse format\n",
    "impact.write_sparse_csr(output_path / 'impact_pik_example1_impmat.npz')"
   ]
  }
 ],
 "metadata": {
  "kernelspec": {
   "display_name": "climada_env",
   "language": "python",
   "name": "python3"
  },
  "language_info": {
   "codemirror_mode": {
    "name": "ipython",
    "version": 3
   },
   "file_extension": ".py",
   "mimetype": "text/x-python",
   "name": "python",
   "nbconvert_exporter": "python",
   "pygments_lexer": "ipython3",
   "version": "3.9.18"
  }
 },
 "nbformat": 4,
 "nbformat_minor": 5
}
