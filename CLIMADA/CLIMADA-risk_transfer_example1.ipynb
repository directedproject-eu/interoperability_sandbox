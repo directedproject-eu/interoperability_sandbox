{
 "cells": [
  {
   "cell_type": "markdown",
   "metadata": {},
   "source": [
    "# CLIMADA Risk Transfer Example\n",
    "\n",
    "This notebook demonstrates how to calculate risk transfer for a portfolio of assets affected by a *single flood event* for *Wien* using CLIMADA.\n",
    "\n",
    "We will also introduce a risk reduction measure (Reinforcement) and observe how it impacts risk transfer and residual risk by recalculating these values.\n",
    "\n",
    "The analysis will be conducted in **two ways**:\n",
    "1. **Portfolio-level approach**: By applying a cover and deductible on the total portfolio of assets.\n",
    "2. **Individual-level approach**: By applying an individual cover and deductible for each building.\n",
    "\n",
    "In this example, we use *SaferPlaces* data to model the flood event and asset exposure from the *Wien demo*.\n"
   ]
  },
  {
   "cell_type": "code",
   "execution_count": 1,
   "metadata": {},
   "outputs": [],
   "source": [
    "from pathlib import Path"
   ]
  },
  {
   "cell_type": "markdown",
   "metadata": {},
   "source": [
    "**Define the path to DATA folder. The DATA can be downloaded from NEXTCLOUD [https://cloud.tu-braunschweig.de/f/569399210](https://cloud.tu-braunschweig.de/f/569399210)**   "
   ]
  },
  {
   "cell_type": "code",
   "execution_count": 2,
   "metadata": {},
   "outputs": [],
   "source": [
    "data_path = Path('/Users/vwattin/Documents/Programming/Climate/DIRECTED/Coupling/DATA')\n",
    "\n",
    "# Define the output folder path (used later in the script)\n",
    "output_path = Path('Results')\n",
    "\n",
    "# Create the output folder if it doesn't exist\n",
    "output_path.mkdir(parents=True, exist_ok=True)"
   ]
  },
  {
   "cell_type": "markdown",
   "metadata": {},
   "source": [
    "Some utility functions to import exposure and to project the flood map to create the hazard object in CLIMADA (see example `CLIMADA-simple_example1.ipynb` and `CLIMADA-simple_example2.ipynb`).\n",
    "\n",
    "We define two functions:\n",
    "- **`create_exposure_from_shp_file`**: This function loads exposure data from a shapefile.\n",
    "- **`create_reduced_hazard_from_raster`**: This function loads hazard data from a raster and calculates the mean water depth around buildings.\n"
   ]
  },
  {
   "cell_type": "code",
   "execution_count": 3,
   "metadata": {},
   "outputs": [],
   "source": [
    "from climada.entity import Exposures\n",
    "import geopandas as gpd\n",
    "import numpy as np\n",
    "import rasterio\n",
    "from rasterio.mask import mask\n",
    "from shapely.geometry import mapping, box\n",
    "import numpy as np\n",
    "from climada.hazard import Hazard, Centroids\n",
    "from scipy.sparse import csr_matrix\n",
    "\n",
    "# Function to load exposure data\n",
    "def create_exposure_from_shp_file(shape_file, value_column=None, default_value=1):\n",
    "    \"\"\"\n",
    "    Load exposure data from a shapefile, process it to be compatible with CLIMADA, and return an Exposures object.\n",
    "\n",
    "    Parameters:\n",
    "    - shape_file: Path to the shapefile to load.\n",
    "    - value_column: Column name in the shapefile to use as the exposure value.\n",
    "                    If not provided or doesn't exist, the 'default_value' will be used.\n",
    "    - default_value: Default value to assign if 'value_column' is not provided or doesn't exist (default is 1).\n",
    "\n",
    "    Returns:\n",
    "    - Exposures: A CLIMADA Exposures object with processed data.\n",
    "    \"\"\"\n",
    "    \n",
    "    # Load the shapefile into a GeoDataFrame\n",
    "    exp_gdf = gpd.read_file(shape_file)\n",
    "\n",
    "    # Add a 'value' column to the GeoDataFrame (required by CLIMADA)\n",
    "    if value_column is None or value_column not in exp_gdf.columns:\n",
    "        exp_gdf['value'] = default_value\n",
    "    else:\n",
    "        exp_gdf['value'] = exp_gdf[value_column]\n",
    "\n",
    "    # Store the original geometry in a new column\n",
    "    exp_gdf['geometry_polygon'] = exp_gdf['geometry']\n",
    "\n",
    "    # Set the geometry to the centroid of the building (useful for impact calculations later on)\n",
    "    exp_gdf['geometry'] = exp_gdf['geometry'].centroid\n",
    "\n",
    "    # Reproject the centroids back to EPSG:4326 (WGS84, in degrees) - CLIMADA default CRS\n",
    "    exp_gdf = exp_gdf.to_crs(4326)\n",
    "\n",
    "    # Set latitude and longitude from geometry\n",
    "    exp_gdf['latitude'] = exp_gdf['geometry'].y\n",
    "    exp_gdf['longitude'] = exp_gdf['geometry'].x\n",
    "\n",
    "    # Define the exposure object\n",
    "    exp = Exposures(exp_gdf)\n",
    "\n",
    "    # Check the exposure object for consistency\n",
    "    exp.check()\n",
    "\n",
    "    # Return the Exposures object\n",
    "    return exp\n",
    "\n",
    "\n",
    "# Function to load the hazard data\n",
    "def create_reduced_hazard_from_raster(exp, haz_raster_full_path, buffer_distance=20, frequency=None, event_id=None):\n",
    "    \"\"\"\n",
    "    Function to create a hazard object from a raster file by calculating the mean water depth\n",
    "    around the building polygons with a specified buffer distance.\n",
    "\n",
    "    Parameters:\n",
    "    - exp: The exposure GeoDataFrame containing building geometries.\n",
    "    - haz_raster_full_path: File path to the hazard raster.\n",
    "    - buffer_distance: Buffer distance for calculating mean water depth around buildings (in meters).\n",
    "    - frequency: Frequency of the event (default is None, if None, a frequency of 1-in-1000 year is used).\n",
    "    - event_id: Event ID (default is None, if None, an ID of np.arange(n_ev) is used).\n",
    "\n",
    "    Returns:\n",
    "    - hazard object: A CLIMADA hazard object based on the raster and building geometries.\n",
    "    \"\"\"\n",
    "\n",
    "    # Hardcoded parameters\n",
    "    haz_type = 'RF'\n",
    "    intensity_unit='m'\n",
    "    n_ev=1\n",
    "\n",
    "    # Initialize default values if none provided\n",
    "    if frequency is None:\n",
    "        frequency = np.ones(n_ev) / 1000  # Default frequency\n",
    "    if event_id is None:\n",
    "        event_id = np.arange(n_ev, dtype=int)  # Default event ID\n",
    "\n",
    "    # Step 1: Copy Exposure Data and Prepare for Processing\n",
    "    haz_dummy_gdf = exp.gdf[['geometry', 'geometry_polygon']].copy()\n",
    "\n",
    "    # Step 2: Open the Raster File and Get CRS\n",
    "    with rasterio.open(haz_raster_full_path) as src:\n",
    "        raster_crs = src.crs\n",
    "        raster_bounds = src.bounds\n",
    "        raster_nodata = src.nodata\n",
    "\n",
    "    # Step 3: Apply Buffer to Building Geometries and Reproject to Match Raster CRS\n",
    "    if haz_dummy_gdf.crs != raster_crs:\n",
    "        haz_dummy_gdf = haz_dummy_gdf.to_crs(raster_crs)\n",
    "        print(f\"Reprojected GeoDataFrame to match the raster CRS: {raster_crs}\")\n",
    "    haz_dummy_gdf['geometry_polygon_buffered'] = haz_dummy_gdf['geometry_polygon'].buffer(buffer_distance)\n",
    "\n",
    "    # Convert raster bounds to a Shapely Polygon for intersection checking\n",
    "    raster_bounds_polygon = box(raster_bounds.left, raster_bounds.bottom, raster_bounds.right, raster_bounds.top)\n",
    "\n",
    "    # Step 4: Function to Calculate Mean Water Depth, Excluding Building Area\n",
    "    def calculate_mean_water_excluding_building(geom, building_geom, src, raster_nodata, raster_bounds_polygon):\n",
    "        # Check if the buffered building geometry intersects the raster area\n",
    "        if geom.intersects(raster_bounds_polygon):\n",
    "            buffer_minus_building = geom.difference(building_geom)\n",
    "            if buffer_minus_building.is_empty:\n",
    "                return 0\n",
    "            geom_geojson = [mapping(buffer_minus_building)]\n",
    "            out_image, _ = mask(src, geom_geojson, crop=True, nodata=raster_nodata)\n",
    "            water_pixels = out_image.flatten()\n",
    "            valid_water_pixels = water_pixels[(water_pixels != raster_nodata)]\n",
    "            if valid_water_pixels.size == 0 or np.isnan(valid_water_pixels).all():\n",
    "                return 0\n",
    "            return np.nanmean(valid_water_pixels)\n",
    "        else:\n",
    "            return 0\n",
    "\n",
    "    # Step 5: Apply the Mean Water Calculation to Each Buffered Building Geometry\n",
    "    with rasterio.open(haz_raster_full_path) as src:\n",
    "        haz_dummy_gdf['mean_water'] = haz_dummy_gdf.apply(\n",
    "            lambda row: calculate_mean_water_excluding_building(\n",
    "                row['geometry_polygon_buffered'], row['geometry_polygon'], src, raster_nodata, raster_bounds_polygon\n",
    "            ),\n",
    "            axis=1\n",
    "        )\n",
    "\n",
    "    # Step 6: Reproject Back to Geographic CRS (EPSG:4326)\n",
    "    haz_dummy_gdf = haz_dummy_gdf.to_crs(4326)\n",
    "\n",
    "    # Step 7: Create the Hazard Object for CLIMADA\n",
    "    haz = Hazard(\n",
    "        haz_type=haz_type,\n",
    "        intensity=csr_matrix([haz_dummy_gdf[\"mean_water\"]]),\n",
    "        centroids=Centroids(lat=haz_dummy_gdf.geometry.centroid.y, lon=haz_dummy_gdf.geometry.centroid.x, crs='EPSG:4326'),\n",
    "        units=intensity_unit,\n",
    "        event_id=event_id,\n",
    "        frequency=frequency\n",
    "    )\n",
    "\n",
    "    # Step 8: Validate the Hazard Object\n",
    "    haz.check()\n",
    "\n",
    "    return haz\n"
   ]
  },
  {
   "cell_type": "markdown",
   "metadata": {},
   "source": [
    "Create the exposure object"
   ]
  },
  {
   "cell_type": "code",
   "execution_count": 4,
   "metadata": {},
   "outputs": [],
   "source": [
    "import pandas as pd\n",
    "from tabulate import tabulate\n",
    "\n",
    "# Get the mapping file given the event and the region\n",
    "exposure_file = data_path / 'Saferplaces/Exposure/DMG_RAIN110828/DMG_RAIN110828.shp'\n",
    "# Load the exposure data\n",
    "exp = create_exposure_from_shp_file(shape_file =  exposure_file,\n",
    "                         value_column= 'exposure' \n",
    "                          )\n"
   ]
  },
  {
   "cell_type": "markdown",
   "metadata": {},
   "source": [
    "Create the hazard object"
   ]
  },
  {
   "cell_type": "code",
   "execution_count": 5,
   "metadata": {},
   "outputs": [
    {
     "name": "stdout",
     "output_type": "stream",
     "text": [
      "Reprojected GeoDataFrame to match the raster CRS: EPSG:32633\n"
     ]
    },
    {
     "name": "stderr",
     "output_type": "stream",
     "text": [
      "/var/folders/cc/c55t39cs0_7dn2cdqsg62v4c0000gp/T/ipykernel_25410/2264206562.py:137: UserWarning: Geometry is in a geographic CRS. Results from 'centroid' are likely incorrect. Use 'GeoSeries.to_crs()' to re-project geometries to a projected CRS before this operation.\n",
      "\n",
      "  centroids=Centroids(lat=haz_dummy_gdf.geometry.centroid.y, lon=haz_dummy_gdf.geometry.centroid.x, crs='EPSG:4326'),\n"
     ]
    }
   ],
   "source": [
    "# Create the hazard object\n",
    "hazard_file = data_path / 'Saferplaces/Hazard/WD_RAIN110828.tif'\n",
    "haz = create_reduced_hazard_from_raster(exp= exp, # Exposure object\n",
    "                                      haz_raster_full_path = hazard_file\n",
    "                                        )                                       \n"
   ]
  },
  {
   "cell_type": "markdown",
   "metadata": {},
   "source": [
    "Create the Impact function set"
   ]
  },
  {
   "cell_type": "code",
   "execution_count": 6,
   "metadata": {},
   "outputs": [
    {
     "data": {
      "image/png": "[encoded data removed]",
      "text/plain": [
       "<Figure size 640x480 with 2 Axes>"
      ]
     },
     "metadata": {},
     "output_type": "display_data"
    }
   ],
   "source": [
    "import numpy as np\n",
    "from climada.entity import ImpactFuncSet\n",
    "\n",
    "# Read the impact function set from excel (can also created manually)\n",
    "impfset = ImpactFuncSet.from_excel(file_name = data_path / 'Shared' / 'Impact function sets' /'impact_fcn_set_Residental.xlsx' # Full path to the impact function set file\n",
    "                                   )\n",
    "#  Plot the impact functions\n",
    "impfset.plot()\n",
    "\n",
    "# Check the impact function set\n",
    "impfset.check()"
   ]
  },
  {
   "cell_type": "markdown",
   "metadata": {},
   "source": [
    "Lets define a simple measure (*Reinforcement*) to later on compare the impact with and without the measure. In the **CLIMADA framework**, [adaptation measures](https://climada-python.readthedocs.io/en/stable/tutorial/climada_entity_MeasureSet.html#measureset-class) class are defined as objects that modify exposure, hazard, or impact function set objects. "
   ]
  },
  {
   "cell_type": "code",
   "execution_count": 7,
   "metadata": {},
   "outputs": [],
   "source": [
    "from climada.entity.measures import Measure\n",
    "from climada.engine import ImpactCalc\n",
    "\n",
    "# Define the measure (Reinforcement)\n",
    "meas = Measure(\n",
    "    name='Reinforcement',  # The name of the measure\n",
    "    haz_type='RF',  # The hazard type\n",
    "    cost=1e8,  # Cost of the measure\n",
    "    mdd_impact=(1, -0.1),  # Decreases mean damage by 0.1\n",
    "    paa_impact=(1, -0.1),  # Decreases the percentage of affected assets by 0.1  \n",
    "    hazard_inten_imp=(1, -0.2)  # Reduces intensity by 0.2\n",
    ")"
   ]
  },
  {
   "cell_type": "markdown",
   "metadata": {},
   "source": [
    "### METHOD 1: Calculate Impact (Risk Transfer and Residual) Based on Portfolio Cover and Deductible\n",
    "\n",
    "In this method, we apply a single cover and deductible to the entire portfolio of assets. This approach assumes that the portfolio as a whole is insured under a single policy, with a common deductible and coverage limit.\n",
    "\n",
    "We will calculate:\n",
    "1. **Total impact**: The total damage to the portfolio without insurance.\n",
    "2. **Risk transfer**: The portion of the damage covered by insurance (after applying the deductible and cover).\n",
    "3. **Residual risk**: The portion of the damage not covered by insurance (remaining losses after the risk transfer).\n"
   ]
  },
  {
   "cell_type": "markdown",
   "metadata": {},
   "source": [
    "Begin by calculating the impact object"
   ]
  },
  {
   "cell_type": "code",
   "execution_count": 8,
   "metadata": {},
   "outputs": [],
   "source": [
    "from climada.engine import ImpactCalc\n",
    "\n",
    "# Calculate the Total Damage (without insurance) impact object for the given exposure, impact function set, and hazard\n",
    "impact = ImpactCalc(exp, impfset, haz).impact(save_mat=True, ignore_cover=True, ignore_deductible=True) "
   ]
  },
  {
   "cell_type": "code",
   "execution_count": 9,
   "metadata": {},
   "outputs": [
    {
     "data": {
      "text/plain": [
       "<1x303717 sparse matrix of type '<class 'numpy.float64'>'\n",
       "\twith 52513 stored elements in Compressed Sparse Row format>"
      ]
     },
     "execution_count": 9,
     "metadata": {},
     "output_type": "execute_result"
    }
   ],
   "source": [
    "# Save to csv (netcdf will be implemented soon)\n",
    "impact.write_csv(output_path / 'example_risk_transfer_impact.csv')\n",
    "# The full event/point impact matrix\n",
    "impact.imp_mat"
   ]
  },
  {
   "cell_type": "markdown",
   "metadata": {},
   "source": [
    "Calculate the Impact Metrics Based on Portfolio Coverage and Deductible. We calculate the impact metrics given the coverage and deductible of the complete portfolio. \n",
    "\n",
    "- The **Average Annual Impact (AAI)** is computed as the total impact per event multiplied by the event's annual frequency.\n",
    "- In this example, we assume a single event with an arbitrary annual frequency of 1/1000, which means the AAI is 0.1% of the total impact value.\n"
   ]
  },
  {
   "cell_type": "code",
   "execution_count": 10,
   "metadata": {},
   "outputs": [
    {
     "name": "stdout",
     "output_type": "stream",
     "text": [
      "\n",
      "--- Properties ---\n",
      "Total value of assets: 68,403,984,777.1\n",
      "Attachment: 684,039,847.8\n",
      "Cover: 34,201,992,388.6\n",
      "\n",
      "--- Transfer risk ---\n",
      "Transfer at event [Event 0]: 865,704,799.2\n",
      "Transfer AAI (Average Annual Impact): 865,704.8\n",
      "\n",
      "--- Residual risk ---\n",
      "Residual at event [Event 0]: 684,039,847.8\n",
      "Residual AAI (Average Annual Impact): 684,039.8\n"
     ]
    }
   ],
   "source": [
    "# Parameters for the risk transfer\n",
    "total_value = exp.gdf['value'].sum()\n",
    "attachment = total_value * 0.01\n",
    "cover = total_value * 0.5\n",
    "\n",
    "# Apply a risk transfer for each event\n",
    "transfer_at_event, transfer_aai_agg = impact.transfer_risk(attachment, cover)\n",
    "\n",
    "# Print the original scenario results\n",
    "print(\"\\n--- Properties ---\")\n",
    "print(f\"Total value of assets: {total_value:,.1f}\")\n",
    "print(f\"Attachment: {attachment:,.1f}\")\n",
    "print(f\"Cover: {cover:,.1f}\")\n",
    "\n",
    "print(\"\\n--- Transfer risk ---\")\n",
    "print(f\"Transfer at event [Event 0]: {transfer_at_event[0]:,.1f}\")\n",
    "print(f\"Transfer AAI (Average Annual Impact): {transfer_aai_agg:,.1f}\") # Average Annual Impact\n",
    "\n",
    "# Calculate the residual risk for the original scenario\n",
    "residual_at_event, residual_aai_agg = impact.residual_risk(attachment, cover)\n",
    "\n",
    "# Print the residual risk results for the original scenario\n",
    "print(\"\\n--- Residual risk ---\")\n",
    "print(f\"Residual at event [Event 0]: {residual_at_event[0]:,.1f}\")\n",
    "print(f\"Residual AAI (Average Annual Impact): {residual_aai_agg:,.1f}\")\n"
   ]
  },
  {
   "cell_type": "markdown",
   "metadata": {},
   "source": [
    "Next, we calculate the risk transfer and residual risk based given the measure."
   ]
  },
  {
   "cell_type": "code",
   "execution_count": 11,
   "metadata": {},
   "outputs": [],
   "source": [
    "# Apply the measure to get the new exposure, impact functions, and hazard\n",
    "new_exp, new_impfs, new_haz = meas.apply(exp, impfset, haz)\n",
    "\n",
    "# Calculate the Total Damage (without insurance) for the new scenario\n",
    "meas_impact = ImpactCalc(new_exp, new_impfs, new_haz).impact(save_mat=True, ignore_cover=True, ignore_deductible=True)"
   ]
  },
  {
   "cell_type": "code",
   "execution_count": 12,
   "metadata": {},
   "outputs": [
    {
     "name": "stdout",
     "output_type": "stream",
     "text": [
      "\n",
      "--- Properties ---\n",
      "Total value of assets (after measure): 68,403,984,777.1\n",
      "Attachment: 684,039,847.8\n",
      "Cover: 34,201,992,388.6\n",
      "\n",
      "--- Transfer risk ---\n",
      "Transfer at event [Event 0] (after measure): 0.0\n",
      "Transfer AAI (Average Annual Impact) (after measure): 0.0\n",
      "\n",
      "--- Residual risk ---\n",
      "Residual at event [Event 0] (after measure): 304,338,559.5\n",
      "Residual AAI (Average Annual Impact) (after measure): 304,338.6\n"
     ]
    }
   ],
   "source": [
    "# Parameters for risk transfer after applying the measure\n",
    "coverage_measure = total_value * 0.5  # 50% of total value for coverage\n",
    "attachment_measure = total_value * 0.01  # 1% of total value for attachment\n",
    "\n",
    "# Apply the risk transfer for the new scenario using the updated coverage and attachment values\n",
    "new_transfer_at_event, new_transfer_aai_agg = meas_impact.transfer_risk(attachment_measure, coverage_measure)\n",
    "\n",
    "# Print the results for the new scenario after applying the measure\n",
    "print(\"\\n--- Properties ---\")\n",
    "print(f\"Total value of assets (after measure): {new_exp.gdf['value'].sum():,.1f}\") \n",
    "print(f\"Attachment: {attachment_measure:,.1f}\")\n",
    "print(f\"Cover: {coverage_measure:,.1f}\")\n",
    "\n",
    "print(\"\\n--- Transfer risk ---\")\n",
    "print(f\"Transfer at event [Event 0] (after measure): {new_transfer_at_event[0]:,.1f}\")\n",
    "print(f\"Transfer AAI (Average Annual Impact) (after measure): {new_transfer_aai_agg:,.1f}\")\n",
    "\n",
    "# Calculate the residual risk for the new scenario\n",
    "new_residual_at_event, new_residual_aai_agg = meas_impact.residual_risk(attachment_measure, coverage_measure)\n",
    "\n",
    "# Print the residual risk results for the new scenario\n",
    "print(\"\\n--- Residual risk ---\")\n",
    "print(f\"Residual at event [Event 0] (after measure): {new_residual_at_event[0]:,.1f}\")\n",
    "print(f\"Residual AAI (Average Annual Impact) (after measure): {new_residual_aai_agg:,.1f}\")\n"
   ]
  },
  {
   "cell_type": "markdown",
   "metadata": {},
   "source": [
    "### METHOD 2: Calculate Impact (Risk Transfer and Residual) Based on Individual Cover and Deductible Per Building\n",
    "\n",
    "In this method, we apply a specific cover and deductible to each building in the portfolio. This approach assumes that each building has its own individual insurance policy, with potentially different deductibles and coverage limits.\n",
    "\n",
    "We will calculate:\n",
    "1. **Total impact**: The total damage to each building without insurance.\n",
    "2. **Risk transfer**: The portion of the damage for each building that is covered by insurance, after applying its individual deductible and cover.\n",
    "3. **Residual risk**: The portion of the damage for each building that is not covered by insurance (remaining losses after risk transfer).\n"
   ]
  },
  {
   "cell_type": "markdown",
   "metadata": {},
   "source": [
    "First, we add the specific **deductible** and **coverage** columns to the exposure GeoDataFrame (`exp.gdf`). \n",
    "\n",
    "These columns are critical because they represent the individual insurance terms for each building. It's important that the column names are exactly **\"deductible\"** and **\"coverage\"**, as these names are referenced in other functions for calculating risk transfer and residual risk."
   ]
  },
  {
   "cell_type": "code",
   "execution_count": 13,
   "metadata": {},
   "outputs": [],
   "source": [
    "# Lets add the deductible and coverage to each exposure object\n",
    "exp.gdf['deductible'] = 0.05 * exp.gdf['value']\n",
    "exp.gdf['coverage'] = 0.5 * exp.gdf['value']"
   ]
  },
  {
   "cell_type": "markdown",
   "metadata": {},
   "source": [
    "For this, we will derive three **Impact** objects that can be used for further analysis:\n",
    "\n",
    "1. **Total Gross Damage**: The total damage without considering any insurance (before applying cover or deductible).\n",
    "2. **Total Risk Transfer (Insurance Payout)**: The damage that is covered by insurance, accounting for the deductible and coverage limit for each building.\n",
    "3. **Residual Risk (Uncovered Losses)**: The portion of the damage that remains uncovered after insurance (damage minus the risk transfer)."
   ]
  },
  {
   "cell_type": "code",
   "execution_count": 14,
   "metadata": {},
   "outputs": [],
   "source": [
    "from climada.engine import ImpactCalc\n",
    "import copy\n",
    "import numpy as np\n",
    "import scipy.sparse\n",
    "\n",
    "def create_impact_objects(exp, impfset, haz):\n",
    "    \"\"\"\n",
    "    Create three Impact objects: total gross damage, risk transfer (insurance payout), and residual risk (uncovered losses),\n",
    "    based on the exposure, impact function set, and hazard input.\n",
    "\n",
    "    Args:\n",
    "        exp (Exposure): Exposure object with deductible and coverage information.\n",
    "        impfset (ImpactFuncSet): Impact function set that links hazards to exposures.\n",
    "        haz (Hazard): Hazard object containing hazard events.\n",
    "\n",
    "    Returns:\n",
    "        tuple: A tuple containing three Impact objects:\n",
    "            - imp_total_damage: Impact object for total gross damage (without insurance).\n",
    "            - imp_risk_transfer: Impact object for total risk transfer (accounting for deductible and coverage).\n",
    "            - imp_residual_risk: Impact object for residual risk (damage not covered by insurance).\n",
    "    \"\"\"\n",
    "\n",
    "    # a) Total Damage (without insurance)\n",
    "    imp_total_damage = ImpactCalc(exp, impfset, haz).impact(save_mat=True, ignore_cover=True, ignore_deductible=True)\n",
    "    \n",
    "    # Ensure frequency is present and valid\n",
    "    frequency = imp_total_damage.frequency  # Event frequencies\n",
    "    \n",
    "    # Extract the impact matrix for total damage (dense matrix)\n",
    "    imp_tot_matrix = imp_total_damage.imp_mat.toarray()\n",
    "    \n",
    "    # Reshape deductible and coverage to match the impact matrix shape\n",
    "    deductible = exp.gdf['deductible'].values.reshape(1, -1)  # Shape (1, n_exposures)\n",
    "    coverage = exp.gdf['coverage'].values.reshape(1, -1)  # Shape (1, n_exposures)\n",
    "\n",
    "    # b) Calculate the Risk Transfer (Insurance Payout)\n",
    "    imp_net_matrix = np.minimum(np.maximum(imp_tot_matrix - deductible, 0), coverage)  # Risk transfer (insurance payout) matrix\n",
    "\n",
    "    # c) Calculate the Residual Risk (Uncovered Losses)\n",
    "    imp_uncovered_matrix = imp_tot_matrix - imp_net_matrix  # Residual risk (uncovered losses) matrix\n",
    "\n",
    "    # Now, we can make copies of the original Impact object and modify specific attributes.\n",
    "    \n",
    "    # 1. Total Gross Damage\n",
    "    imp_total_damage_obj = copy.deepcopy(imp_total_damage)\n",
    "    \n",
    "    # 2. Risk Transfer (Insurance Payout)\n",
    "    imp_risk_transfer_obj = copy.deepcopy(imp_total_damage)\n",
    "    imp_risk_transfer_obj.at_event = np.sum(imp_net_matrix, axis=1)  # Sum of risk transfer for each event\n",
    "    imp_risk_transfer_obj.aai_agg = np.sum(imp_risk_transfer_obj.at_event * frequency)  # Average Annual Impact (AAI)\n",
    "    imp_risk_transfer_obj.eai_exp = np.sum(imp_net_matrix * frequency.reshape(-1, 1), axis=0)  # Expected Annual Impact for each exposure\n",
    "    imp_risk_transfer_obj.imp_mat = csr_matrix(imp_net_matrix)  # Sparse matrix for risk transfer\n",
    "    \n",
    "    # 3. Residual Risk (Uncovered Losses)\n",
    "    imp_residual_risk_obj = copy.deepcopy(imp_total_damage)\n",
    "    imp_residual_risk_obj.at_event = np.sum(imp_uncovered_matrix, axis=1)  # Sum of residual risk for each event\n",
    "    imp_residual_risk_obj.aai_agg = np.sum(imp_residual_risk_obj.at_event * frequency)  # Average Annual Impact (AAI)\n",
    "    imp_residual_risk_obj.eai_exp = np.sum(imp_uncovered_matrix * frequency.reshape(-1, 1), axis=0)  # Expected Annual Impact for each exposure\n",
    "    imp_residual_risk_obj.imp_mat = csr_matrix(imp_uncovered_matrix)  # Sparse matrix for residual risk\n",
    "\n",
    "    return imp_total_damage_obj, imp_risk_transfer_obj, imp_residual_risk_obj\n"
   ]
  },
  {
   "cell_type": "markdown",
   "metadata": {},
   "source": [
    "Next, we calculate the impact objects."
   ]
  },
  {
   "cell_type": "code",
   "execution_count": 15,
   "metadata": {},
   "outputs": [],
   "source": [
    "# Assuming exp, impfset, and haz are predefined objects\n",
    "imp_total_damage_obj, imp_risk_transfer_obj, imp_residual_risk_obj = create_impact_objects(exp, impfset, haz)\n",
    "\n",
    "# Store the impact results in a dictionary for easy access in a DataFrame\n",
    "metrics_df = pd.DataFrame({\n",
    "    'metrics': ['Total Gross Damage', 'Risk Transfer (Insurance Payout)', 'Residual Risk (Uncovered Losses)'],\n",
    "    'No Measure': [imp_total_damage_obj.at_event[0], imp_risk_transfer_obj.at_event[0], imp_residual_risk_obj.at_event[0]]\n",
    "})\n"
   ]
  },
  {
   "cell_type": "markdown",
   "metadata": {},
   "source": [
    "Now lets calculat the same values given the measure"
   ]
  },
  {
   "cell_type": "code",
   "execution_count": 16,
   "metadata": {},
   "outputs": [],
   "source": [
    "# Calculate the impacts for the new scenario (after applying the measure)\n",
    "meas_imp_total_damage, meas_imp_risk_transfer, meas_imp_residual_risk = create_impact_objects(new_exp, new_impfs, new_haz)\n",
    "\n",
    "# Store the new impact results under a new column 'Facade' in the DataFrame\n",
    "metrics_df['Reinforcement'] = [\n",
    "    meas_imp_total_damage.at_event[0], \n",
    "    meas_imp_risk_transfer.at_event[0], \n",
    "    meas_imp_residual_risk.at_event[0]\n",
    "]\n"
   ]
  },
  {
   "cell_type": "markdown",
   "metadata": {},
   "source": [
    "Print the results"
   ]
  },
  {
   "cell_type": "code",
   "execution_count": 17,
   "metadata": {},
   "outputs": [
    {
     "name": "stdout",
     "output_type": "stream",
     "text": [
      "╒════╤══════════════════════════════════╤══════════════╤═════════════════╕\n",
      "│    │ metrics                          │   No Measure │   Reinforcement │\n",
      "╞════╪══════════════════════════════════╪══════════════╪═════════════════╡\n",
      "│  0 │ Total Gross Damage               │  1.54974e+09 │     3.04339e+08 │\n",
      "├────┼──────────────────────────────────┼──────────────┼─────────────────┤\n",
      "│  1 │ Risk Transfer (Insurance Payout) │  8.17151e+08 │     1.17341e+08 │\n",
      "├────┼──────────────────────────────────┼──────────────┼─────────────────┤\n",
      "│  2 │ Residual Risk (Uncovered Losses) │  7.32594e+08 │     1.86998e+08 │\n",
      "╘════╧══════════════════════════════════╧══════════════╧═════════════════╛\n"
     ]
    }
   ],
   "source": [
    "# Print the results tabulated and formatted nicely in billions\n",
    "print(tabulate(metrics_df, headers='keys', tablefmt='fancy_grid'))"
   ]
  }
 ],
 "metadata": {
  "kernelspec": {
   "display_name": "climada_env",
   "language": "python",
   "name": "python3"
  },
  "language_info": {
   "codemirror_mode": {
    "name": "ipython",
    "version": 3
   },
   "file_extension": ".py",
   "mimetype": "text/x-python",
   "name": "python",
   "nbconvert_exporter": "python",
   "pygments_lexer": "ipython3",
   "version": "3.9.18"
  }
 },
 "nbformat": 4,
 "nbformat_minor": 2
}
